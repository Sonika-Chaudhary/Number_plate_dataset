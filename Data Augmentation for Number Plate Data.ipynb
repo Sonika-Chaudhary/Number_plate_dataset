{
 "cells": [
  {
   "cell_type": "markdown",
   "id": "70f361af",
   "metadata": {},
   "source": [
    "# Data Augmentation for Bengali"
   ]
  },
  {
   "cell_type": "code",
   "execution_count": 8,
   "id": "a9dcd40e",
   "metadata": {},
   "outputs": [
    {
     "name": "stdout",
     "output_type": "stream",
     "text": [
      "Initialised with 12 image(s) found.\n",
      "Output directory set to C:\\Users\\VISHNU TRIPATHI\\Number_plate_image_data\\Bengali\\output."
     ]
    },
    {
     "name": "stderr",
     "output_type": "stream",
     "text": [
      "Processing <PIL.Image.Image image mode=RGB size=120x120 at 0x1FE74457730>: 100%|█| 200/200 [00:02<00:00, 68.83 Samples/\n"
     ]
    }
   ],
   "source": [
    "import Augmentor\n",
    "p = Augmentor.Pipeline(r\"C:\\Users\\VISHNU TRIPATHI\\Number_plate_image_data\\Bengali\")\n",
    "p.rotate(probability=0.7, max_left_rotation=10, max_right_rotation=10)\n",
    "p.flip_left_right(probability=0.5)\n",
    "p.rotate90(probability=0.5)\n",
    "p.rotate270(probability=0.5)\n",
    "p.random_distortion(probability=1, grid_width=4, grid_height=4, magnitude=8)\n",
    "p.crop_random(probability=1, percentage_area=0.5)\n",
    "p.resize(probability=1.0, width=120, height=120)\n",
    "p.flip_top_bottom(probability=0.5)\n",
    "p.sample(200)"
   ]
  },
  {
   "cell_type": "markdown",
   "id": "2b80b6f1",
   "metadata": {},
   "source": [
    "# Data Augmentation for Hindi"
   ]
  },
  {
   "cell_type": "code",
   "execution_count": 9,
   "id": "454068d2",
   "metadata": {},
   "outputs": [
    {
     "name": "stdout",
     "output_type": "stream",
     "text": [
      "Initialised with 10 image(s) found.\n",
      "Output directory set to C:\\Users\\VISHNU TRIPATHI\\Number_plate_image_data\\hindi\\output."
     ]
    },
    {
     "name": "stderr",
     "output_type": "stream",
     "text": [
      "Processing <PIL.Image.Image image mode=RGB size=120x120 at 0x1FE74406310>: 100%|█| 200/200 [00:01<00:00, 137.71 Samples\n"
     ]
    }
   ],
   "source": [
    "import Augmentor\n",
    "p = Augmentor.Pipeline(r\"C:\\Users\\VISHNU TRIPATHI\\Number_plate_image_data\\hindi\")\n",
    "p.rotate(probability=0.7, max_left_rotation=10, max_right_rotation=10)\n",
    "p.flip_left_right(probability=0.5)\n",
    "p.rotate90(probability=0.5)\n",
    "p.rotate270(probability=0.5)\n",
    "p.random_distortion(probability=1, grid_width=4, grid_height=4, magnitude=8)\n",
    "p.crop_random(probability=1, percentage_area=0.5)\n",
    "p.resize(probability=1.0, width=120, height=120)\n",
    "p.flip_top_bottom(probability=0.5)\n",
    "p.sample(200)"
   ]
  },
  {
   "cell_type": "markdown",
   "id": "687bc54f",
   "metadata": {},
   "source": [
    "# Data Augmentation for Kannada"
   ]
  },
  {
   "cell_type": "code",
   "execution_count": 10,
   "id": "6351ddfc",
   "metadata": {},
   "outputs": [
    {
     "name": "stdout",
     "output_type": "stream",
     "text": [
      "Initialised with 15 image(s) found.\n",
      "Output directory set to C:\\Users\\VISHNU TRIPATHI\\Number_plate_image_data\\Kannada\\output."
     ]
    },
    {
     "name": "stderr",
     "output_type": "stream",
     "text": [
      "Processing <PIL.Image.Image image mode=RGB size=120x120 at 0x1FE7444B490>: 100%|█| 200/200 [00:01<00:00, 134.25 Samples\n"
     ]
    }
   ],
   "source": [
    "import Augmentor\n",
    "p = Augmentor.Pipeline(r\"C:\\Users\\VISHNU TRIPATHI\\Number_plate_image_data\\Kannada\")\n",
    "p.rotate(probability=0.7, max_left_rotation=10, max_right_rotation=10)\n",
    "p.flip_left_right(probability=0.5)\n",
    "p.rotate90(probability=0.5)\n",
    "p.rotate270(probability=0.5)\n",
    "p.random_distortion(probability=1, grid_width=4, grid_height=4, magnitude=8)\n",
    "p.crop_random(probability=1, percentage_area=0.5)\n",
    "p.resize(probability=1.0, width=120, height=120)\n",
    "p.flip_top_bottom(probability=0.5)\n",
    "p.sample(200)"
   ]
  },
  {
   "cell_type": "markdown",
   "id": "f2994c49",
   "metadata": {},
   "source": [
    "# Data Augmentation for Tamil"
   ]
  },
  {
   "cell_type": "code",
   "execution_count": 11,
   "id": "b5e0fd73",
   "metadata": {},
   "outputs": [
    {
     "name": "stdout",
     "output_type": "stream",
     "text": [
      "Initialised with 8 image(s) found.\n",
      "Output directory set to C:\\Users\\VISHNU TRIPATHI\\Number_plate_image_data\\Tamil\\output."
     ]
    },
    {
     "name": "stderr",
     "output_type": "stream",
     "text": [
      "Processing <PIL.Image.Image image mode=RGB size=120x120 at 0x1FE7440EF40>: 100%|█| 200/200 [00:01<00:00, 166.95 Samples\n"
     ]
    }
   ],
   "source": [
    "import Augmentor\n",
    "p = Augmentor.Pipeline(r\"C:\\Users\\VISHNU TRIPATHI\\Number_plate_image_data\\Tamil\")\n",
    "p.rotate(probability=0.7, max_left_rotation=10, max_right_rotation=10)\n",
    "p.flip_left_right(probability=0.5)\n",
    "p.rotate90(probability=0.5)\n",
    "p.rotate270(probability=0.5)\n",
    "p.random_distortion(probability=1, grid_width=4, grid_height=4, magnitude=8)\n",
    "p.crop_random(probability=1, percentage_area=0.5)\n",
    "p.resize(probability=1.0, width=120, height=120)\n",
    "p.flip_top_bottom(probability=0.5)\n",
    "p.sample(200)"
   ]
  },
  {
   "cell_type": "code",
   "execution_count": null,
   "id": "e1e326de",
   "metadata": {},
   "outputs": [],
   "source": []
  }
 ],
 "metadata": {
  "kernelspec": {
   "display_name": "Python 3 (ipykernel)",
   "language": "python",
   "name": "python3"
  },
  "language_info": {
   "codemirror_mode": {
    "name": "ipython",
    "version": 3
   },
   "file_extension": ".py",
   "mimetype": "text/x-python",
   "name": "python",
   "nbconvert_exporter": "python",
   "pygments_lexer": "ipython3",
   "version": "3.9.12"
  }
 },
 "nbformat": 4,
 "nbformat_minor": 5
}
